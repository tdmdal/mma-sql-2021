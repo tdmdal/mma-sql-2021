{
  "nbformat": 4,
  "nbformat_minor": 2,
  "metadata": {
    "kernelspec": {
      "display_name": "Python 3",
      "language": "python",
      "name": "python3"
    },
    "language_info": {
      "codemirror_mode": {
        "name": "ipython",
        "version": 3
      },
      "file_extension": ".py",
      "mimetype": "text/x-python",
      "name": "python",
      "nbconvert_exporter": "python",
      "pygments_lexer": "ipython3",
      "version": "3.6.3"
    },
    "colab": {
      "name": "SQL_Intro_Sqlite.ipynb",
      "provenance": [],
      "collapsed_sections": []
    }
  },
  "cells": [
    {
      "cell_type": "markdown",
      "source": [
        "# MMA Bootcamp - Intro to SQL\n",
        "\n",
        "## 1. Preparation\n",
        "\n",
        "We start by setting up a connection to our sample database, Northwind DB."
      ],
      "metadata": {
        "id": "dbmDBqw1P5hn",
        "colab_type": "text"
      }
    },
    {
      "cell_type": "code",
      "execution_count": null,
      "source": [
        "# download Northwind SQLite DB\r\n",
        "!wget https://tdmdal.github.io/mma-sql-2021/data/northwind.sqlite3"
      ],
      "outputs": [],
      "metadata": {
        "id": "Ylg7JbjIAZME",
        "colab_type": "code",
        "colab": {}
      }
    },
    {
      "cell_type": "code",
      "execution_count": null,
      "source": [
        "# load the SQL magic extension\r\n",
        "# https://github.com/catherinedevlin/ipython-sql\r\n",
        "# this extension allows us to connect to DBs and issue SQL command\r\n",
        "%load_ext sql\r\n",
        "\r\n",
        "# now we can use the magic extension to connect to our SQLite DB\r\n",
        "# use %sql to write an inline SQL command\r\n",
        "# use %%sql to write SQL commands in a cell\r\n",
        "%sql sqlite:///northwind.sqlite3"
      ],
      "outputs": [],
      "metadata": {
        "id": "RSE5sLAmP5hq",
        "colab_type": "code",
        "colab": {}
      }
    },
    {
      "cell_type": "markdown",
      "source": [
        "After connecting to the Northwind DB, let's first check what database engine we are using."
      ],
      "metadata": {
        "id": "HjRxDwvkP5h7",
        "colab_type": "text"
      }
    },
    {
      "cell_type": "code",
      "execution_count": null,
      "source": [
        "%%sql\r\n",
        "SELECT sqlite_version();"
      ],
      "outputs": [],
      "metadata": {
        "id": "3JdLzIG-P5iE",
        "colab_type": "code",
        "colab": {}
      }
    },
    {
      "cell_type": "markdown",
      "source": [
        "We are using [SQLite 3](https://www.sqlite.org/index.html). It's a small and fast Relational Database engine. SQLite DB is self-contained: one database is just a file. Believe it or not, SQLite is the most used DB engine in the world. It's built into millions of mobile phones (e.g. Android or iOS phones) and it's used by many popular apps to store data.  "
      ],
      "metadata": {
        "id": "Qxq151BGP5iN",
        "colab_type": "text"
      }
    },
    {
      "cell_type": "markdown",
      "source": [
        "## 2. A quick look at Northwind DB\n",
        "\n",
        "### How many tables does this DB have?\n",
        "\n",
        "A database may contain many tables. Let's see how many tables we have in the Northwind DB.\n",
        "\n",
        "Every SQLite database has a special table called `sqlite_master`. It contains a master listing of all database objects (tables, indexes, etc.) in the database and the SQL used to create each object. We can query this table to find out how many tables (excluding `sqlite_master`) we have in our Northwind DB.\n",
        "\n",
        "We will use SQL keywords `SELECT...FROM...WHERE`. Don't worry about them for now. We will soon learn those keywords."
      ],
      "metadata": {
        "id": "bZZn0JyrP5iQ",
        "colab_type": "text"
      }
    },
    {
      "cell_type": "code",
      "execution_count": null,
      "source": [
        "%%sql\r\n",
        "SELECT name FROM sqlite_master WHERE type='table' AND name NOT LIKE 'sqlite_%';"
      ],
      "outputs": [],
      "metadata": {
        "id": "f6uSQXLtP5iU",
        "colab_type": "code",
        "colab": {}
      }
    },
    {
      "cell_type": "markdown",
      "source": [
        "Note that special tables in SQLite start with `sqlite_`. Those are reserved tables for SQLite engine system use. Above we filtered out those tables. In most cases, we shouldn't touch those special tables."
      ],
      "metadata": {
        "id": "rzZ4pHQuW2Jn",
        "colab_type": "text"
      }
    },
    {
      "cell_type": "markdown",
      "source": [
        "### How does the Categories table look like?\n",
        "\n",
        "A table is made up of one or more columns/fields. Let's take a look a the Categories table (column names, types, etc.)."
      ],
      "metadata": {
        "id": "JZediGsUP5ic",
        "colab_type": "text"
      }
    },
    {
      "cell_type": "code",
      "execution_count": null,
      "source": [
        "%sql PRAGMA table_info([Categories]);"
      ],
      "outputs": [],
      "metadata": {
        "id": "Kf76Zf33Zuh4",
        "colab_type": "code",
        "colab": {}
      }
    },
    {
      "cell_type": "markdown",
      "source": [
        "### How about the relationships between the tables?\r\n",
        "\r\n",
        "We present the relationships between the tables using an Entity Relationship (ER) diagram.\r\n",
        "\r\n",
        "<img src=\"https://tdmdal.github.io/mma-sql-2021/images/NW_ER.png\" alt=\"ER Diagram\" width=\"836\" height=\"605\" />\r\n",
        "\r\n",
        "In the above ER diagram, the tiny vertical key icon indicates a column is a primary key. A primary key is a column (or set of columns) whose values uniquely identify every row in a table. For example, `OrderID` is the primary key in the `Orders` table, and `OrderID` and `ProductID` (combined) is the primary key in the `OrderDetails` table.\r\n",
        "\r\n",
        "The relationship icon (a line with a horizontal key at one end and an infinite symbol at the other end) indicates a foreign key constraint and a one-to-many relationship. A foreign key is a column (or set of columns) in one table whose values uniquely identify a row of another table or the same table. A foreign key mostly refers to a primary key in another table. A foreign key constraint requires that the constrained column contain only values from the primary key column of the other table. For example `CustomerID` in the `Orders` table is a foreign key that refers to the `CustomerID` primary key in the `Customers` table, and it can only contain values that exist in the `CustomerID` column of the `Customers` table.\r\n",
        "\r\n",
        "In addition, it happens that every foreign key constraint in the Northwind DB establishes a one-to-many relationship, i.e. a row from one table can have multiple matching rows in another table. For example, one row from the `Customers` table can match multiple rows in the `Orders` table (via `CustomerID`). This makes sense as one customer can place more than one orders. (Another common relationship a foreign key constraint can establish is the one-to-one relationship.)\r\n",
        "\r\n",
        "|logo|meaning|\r\n",
        "|:------:|:------:|\r\n",
        "|![key logo](https://tdmdal.github.io/mma-sql-2021/images/key_vertical.png \"key logo\")|primary key|\r\n",
        "|![foreign key constraint](https://tdmdal.github.io/mma-sql-2021/images/relationship.png \"foreign key constraint\")|one-to-many foreign key contraint|\r\n",
        "\r\n",
        "**Question**: Why do we need foreign key constraints? (Discussion)\r\n",
        "\r\n",
        "You can find out relationships between tables by querying the `sqlite_master` table. See the code below.\r\n",
        "\r\n",
        "Of course, querying the `sqlite_master` table to find out relationships between tables is specific to SQLite. We would do it differently if we use other database management systems. For example, if we use MySQL system, we would query the `key_column_usage` table in the `information_schema` DB. See this stackoverflow [question](https://stackoverflow.com/questions/20855065/how-to-find-all-the-relations-between-all-mysql-tables).\r\n",
        "\r\n",
        "Alternatively, some SQL client tools can generate ER diagram for you. The above diagram is generated by SQL Server Management Studio (SSMS). The Northwind DB is a sample DB originally shipped with Microsoft SQL Server."
      ],
      "metadata": {
        "id": "h5EZYKPcP5iq",
        "colab_type": "text"
      }
    },
    {
      "cell_type": "code",
      "execution_count": null,
      "source": [
        "%%sql\r\n",
        "-- find out relationships between tables using SQL command\r\n",
        "SELECT sql\r\n",
        "FROM sqlite_master\r\n",
        "WHERE name = \"Orders\""
      ],
      "outputs": [],
      "metadata": {
        "id": "k6UG5tFhgEgn",
        "colab_type": "code",
        "colab": {}
      }
    },
    {
      "cell_type": "markdown",
      "source": [
        "## Exercises\n",
        "\n",
        "**We will work on the problems with a * sign together.** Other problems are left for homework.\n",
        "\n",
        "## Part 1. Warm-up\n",
        "\n",
        "We review \n",
        "\n",
        "1. Retrieve data: `SELECT...FROM...`\n",
        "2. Sort retrieved data: `SELECT...FROM...ORDER BY...`\n",
        "3. Filter data: `SELECT...FROM...WHERE...`; `IN`, `NOT`, `LIKE` and `%` wildcard\n",
        "4. Create calculated fields: mathematical calculations (e.g. +, -, *, /); data manipulation functions (e.g. `DATE()`, `||`) "
      ],
      "metadata": {
        "id": "pCMJAERPP5i4",
        "colab_type": "text"
      }
    },
    {
      "cell_type": "markdown",
      "source": [
        "### Ex1*. Which categories do we have?\n",
        "\n",
        "Display `CategoryName` and `Description` in the `Categories` table."
      ],
      "metadata": {
        "id": "DsN97oCBP5i5",
        "colab_type": "text"
      }
    },
    {
      "cell_type": "code",
      "execution_count": null,
      "source": [
        "%%sql\r\n",
        "-- start your code here\r\n"
      ],
      "outputs": [],
      "metadata": {
        "id": "DkcFjUPZP5i7",
        "colab_type": "code",
        "colab": {}
      }
    },
    {
      "cell_type": "code",
      "execution_count": null,
      "source": [
        "# Just curious, what's in the picture column?\n",
        "result = %sql SELECT CategoryName, Picture FROM Categories;\n",
        "result.DataFrame().loc[0, 'Picture']"
      ],
      "outputs": [],
      "metadata": {
        "id": "noxeIeauP5jB",
        "colab_type": "code",
        "colab": {}
      }
    },
    {
      "cell_type": "code",
      "execution_count": null,
      "source": [
        "# still curious about the picture column?\n",
        "# image is actually stored as a blob (Binary Large Object) in SQLite\n",
        "from matplotlib.pyplot import imshow\n",
        "from PIL import Image\n",
        "from io import BytesIO\n",
        "%matplotlib inline\n",
        "row = 0\n",
        "im = Image.open(BytesIO(result.DataFrame().loc[row, 'Picture'][78:])) # cut the first 78 bytes (OLE header)\n",
        "print(im)\n",
        "imshow(im)"
      ],
      "outputs": [],
      "metadata": {
        "id": "3nBk-vEXP5jL",
        "colab_type": "code",
        "colab": {}
      }
    },
    {
      "cell_type": "markdown",
      "source": [
        "### Ex2. Which shippers do we have?"
      ],
      "metadata": {
        "id": "vfyHGYXUP5jS",
        "colab_type": "text"
      }
    },
    {
      "cell_type": "code",
      "execution_count": null,
      "source": [
        "%%sql\n",
        "-- start your code here\n"
      ],
      "outputs": [],
      "metadata": {
        "id": "Yewkdb61P5jV",
        "colab_type": "code",
        "colab": {}
      }
    },
    {
      "cell_type": "markdown",
      "source": [
        "### Ex3* Find names and hire dates of all US sales representatives\n",
        "\n",
        "The resulting table should display `FirstName`, `LastName`, `HireDate`, `Title` and `Country`."
      ],
      "metadata": {
        "id": "CJGFfDmMP5jd",
        "colab_type": "text"
      }
    },
    {
      "cell_type": "code",
      "execution_count": null,
      "source": [
        "%%sql\n",
        "-- take a look at the Employees table first\n",
        "-- use LIMIT to limit the rows being displayed\n",
        "SELECT FirstName, LastName, HireDate, Title, Country\n",
        "FROM Employees\n",
        "LIMIT 10"
      ],
      "outputs": [],
      "metadata": {
        "id": "nAijMy1ZP5je",
        "colab_type": "code",
        "colab": {}
      }
    },
    {
      "cell_type": "code",
      "execution_count": null,
      "source": [
        "%%sql\n",
        "-- just curious, how many distinct coutries do we have?\n",
        "SELECT DISTINCT Country\n",
        "FROM Employees"
      ],
      "outputs": [],
      "metadata": {
        "id": "s7SiTpDIP5jm",
        "colab_type": "code",
        "colab": {}
      }
    },
    {
      "cell_type": "code",
      "execution_count": null,
      "source": [
        "%%sql\n",
        "-- start your code here\n"
      ],
      "outputs": [],
      "metadata": {
        "id": "ZzSRms3PP5jw",
        "colab_type": "code",
        "colab": {}
      }
    },
    {
      "cell_type": "markdown",
      "source": [
        "### Ex4. Find supplier contacts who are *not* marketing managers\n",
        "\n",
        "Display `supplierID`, `ContactNames` and `ContactTitle` for those whose `ContactTitle` is *not* Marketing Manager.\n",
        "\n",
        "Hint: `NOT` operator."
      ],
      "metadata": {
        "id": "HjWUArDrP5j_",
        "colab_type": "text"
      }
    },
    {
      "cell_type": "code",
      "execution_count": null,
      "source": [
        "%%sql\n",
        "-- start your code here\n"
      ],
      "outputs": [],
      "metadata": {
        "id": "uKSTe5S_P5kL",
        "colab_type": "code",
        "colab": {}
      }
    },
    {
      "cell_type": "markdown",
      "source": [
        "### Ex.5* Find products with \"Chef\" in its name\n",
        "\n",
        "Hint: `LIKE` operator and `%` wildcard."
      ],
      "metadata": {
        "id": "v67A6_DaP5kQ",
        "colab_type": "text"
      }
    },
    {
      "cell_type": "code",
      "execution_count": null,
      "source": [
        "%%sql\n",
        "-- start your code here\n"
      ],
      "outputs": [],
      "metadata": {
        "id": "nPmZVr5wP5kS",
        "colab_type": "code",
        "colab": {}
      }
    },
    {
      "cell_type": "markdown",
      "source": [
        "### Ex.6 Find all orders shipping to Canada, Mexico or USA.\n",
        "\n",
        "Hint: `IN` operator."
      ],
      "metadata": {
        "id": "8td7jDiWP5ke",
        "colab_type": "text"
      }
    },
    {
      "cell_type": "code",
      "execution_count": null,
      "source": [
        "%%sql\n",
        "-- start your code here\n"
      ],
      "outputs": [],
      "metadata": {
        "id": "GGQJqpMzP5kf",
        "colab_type": "code",
        "colab": {}
      }
    },
    {
      "cell_type": "markdown",
      "source": [
        "### Ex.7* Who is the oldest employee?\n",
        "\n",
        "Display `FirstName`, `LastName`, `Title`, and birth date, ordered by birth date. Show only the date portion of the `BirthDate` column/field (YYYY-MM-DD)."
      ],
      "metadata": {
        "id": "actDI1XLP5kl",
        "colab_type": "text"
      }
    },
    {
      "cell_type": "code",
      "execution_count": null,
      "source": [
        "%%sql\n",
        "-- start your code here\n"
      ],
      "outputs": [],
      "metadata": {
        "id": "0xIt3fpHP5kl",
        "colab_type": "code",
        "colab": {}
      }
    },
    {
      "cell_type": "markdown",
      "source": [
        "### EX.8 Show employee full name\n",
        "\n",
        "Show the `FirstName` and `LastName` columns from the `Employees` table, and then create a new column called `FullName`, showing first name and last name joined together in one column in a format like \"DAVOLIO, Nancy\"."
      ],
      "metadata": {
        "id": "h107mQkjP5kx",
        "colab_type": "text"
      }
    },
    {
      "cell_type": "code",
      "execution_count": null,
      "source": [
        "%%sql\n",
        "-- start your code here\n"
      ],
      "outputs": [],
      "metadata": {
        "id": "dmCenF_lP5kz",
        "colab_type": "code",
        "colab": {}
      }
    },
    {
      "cell_type": "markdown",
      "source": [
        "### Ex.9* Which order items have total sales above $12,000.\n",
        "\n",
        "In the `OrderDetails` table, we have the columns `UnitPrice` and `Quantity`. Create a new column, `TotalPrice`, that multiplies these two (ignore the `Discount` column). Display `OrderID`, `ProductID`, `UnitPrice`, `Quantity` and `TotalPrice`. Order the result first by `ProductID` (ascending) and then by `TotalPrice` (descending).\n",
        "\n",
        "Note that the question asks about order items (not orders). One order may contain multiple items/products. An order item is identified by the `OrderID` and `ProductID` columns."
      ],
      "metadata": {
        "id": "heh3Gl-CP5k5",
        "colab_type": "text"
      }
    },
    {
      "cell_type": "code",
      "execution_count": null,
      "source": [
        "%%sql\n",
        "-- start your code here\n"
      ],
      "outputs": [],
      "metadata": {
        "id": "8jlohcepP5k5",
        "colab_type": "code",
        "colab": {}
      }
    },
    {
      "cell_type": "markdown",
      "source": [
        "### Ex.10 Show all products that need reordering\n",
        "\n",
        "A product need reordering if `UnitsInStock + UnitsOnOrder <= ReorderLevel` and `Discontinued = 0`. In your result, display `ProductID`, `ProductName`, `UnitsInStock`, `UnitsOnOrder`, `ReorderLevel`, and `Discontinued`."
      ],
      "metadata": {
        "id": "8SitwG-HP5lG",
        "colab_type": "text"
      }
    },
    {
      "cell_type": "code",
      "execution_count": null,
      "source": [
        "%%sql\n",
        "-- start your code here\n"
      ],
      "outputs": [],
      "metadata": {
        "id": "w6WKD5WTP5lG",
        "colab_type": "code",
        "colab": {}
      }
    },
    {
      "cell_type": "markdown",
      "source": [
        "## Part 2. Summarize and Group Data\n",
        "\n",
        "1. Summarize data using aggregate functions (e.g. `COUNT()`, `MIN()`, `MAX()`, and `AVG()`).\n",
        "2. Group data and filter groups: `SELECT...FROM...GROUP BY...HAVING...`.\n",
        "3. `SELECT` clause ordering: `SELECT...FROM...WHERE...GROUP BY...HAVING...ORDER BY...`.\n",
        "4. Filter data by *subquery*: `SELECT...FROM...WHERE...(SELECT...FROM...)`\n",
        "\n",
        "### Ex.11* Count total number of order items. What's their minimum, maximum and average price?\n",
        "\n",
        "Note that the question asks about order items (not orders). One order may contain multiple items/products. An order item is identified by (OrderID + ProductID)."
      ],
      "metadata": {
        "id": "IJWnaTtsP5lM",
        "colab_type": "text"
      }
    },
    {
      "cell_type": "code",
      "execution_count": null,
      "source": [
        "%%sql\n",
        "-- start your code here\n"
      ],
      "outputs": [],
      "metadata": {
        "id": "QN_WXbVDP5lN",
        "colab_type": "code",
        "colab": {}
      }
    },
    {
      "cell_type": "markdown",
      "source": [
        "### Ex. 12* How many customers do we have for each contact title.\n",
        "\n",
        "Order the result by the count of contact titles."
      ],
      "metadata": {
        "id": "atzWiwfxP5lU",
        "colab_type": "text"
      }
    },
    {
      "cell_type": "code",
      "execution_count": null,
      "source": [
        "%%sql\n",
        "-- start your code here\n"
      ],
      "outputs": [],
      "metadata": {
        "id": "XpwkY2yPP5lU",
        "colab_type": "code",
        "colab": {}
      }
    },
    {
      "cell_type": "markdown",
      "source": [
        "### Ex.13 Find total customers per country and city"
      ],
      "metadata": {
        "id": "1e2HP45FP5lY",
        "colab_type": "text"
      }
    },
    {
      "cell_type": "code",
      "execution_count": null,
      "source": [
        "%%sql\n",
        "-- start your code here\n"
      ],
      "outputs": [],
      "metadata": {
        "id": "eyJLA4IsP5la",
        "colab_type": "code",
        "colab": {}
      }
    },
    {
      "cell_type": "markdown",
      "source": [
        "### Ex.14* Show all orders with values greater than $12,000?\n",
        "\n",
        "Ignore the `Discount`. Contrast this question to Ex.9."
      ],
      "metadata": {
        "id": "Ie1Up0WCP5lf",
        "colab_type": "text"
      }
    },
    {
      "cell_type": "code",
      "execution_count": null,
      "source": [
        "%%sql\n",
        "-- start your code here\n"
      ],
      "outputs": [],
      "metadata": {
        "id": "ghH38U-EP5lf",
        "colab_type": "code",
        "colab": {}
      }
    },
    {
      "cell_type": "markdown",
      "source": [
        "### Ex.15* Find top three countries with the highest average freight charges for the last 12 months. \n",
        "\n",
        "\"The last 12 months\" is with respect to the last `OrderDate` in the `Orders` table."
      ],
      "metadata": {
        "id": "6L0C9-krP5ll",
        "colab_type": "text"
      }
    },
    {
      "cell_type": "code",
      "execution_count": null,
      "source": [
        "%%sql\n",
        "-- start your code here\n",
        "-- datetime(): https://www.sqlite.org/lang_datefunc.html\n"
      ],
      "outputs": [],
      "metadata": {
        "id": "XGEsw_hL2FXR",
        "colab_type": "code",
        "colab": {}
      }
    },
    {
      "cell_type": "markdown",
      "source": [
        "## Part 3. Join Tables\n",
        "\n",
        "1. Inner join: `SELECT...FROM...INNER JOIN...ON...`\n",
        "2. Left join:  `SELECT...FROM...LEFT JOIN...ON...`\n",
        "3. Other joins.\n",
        "\n",
        "### Ex.16* Show products and their associated suppliers\n",
        "\n",
        "Display the `ProductID`, `ProductName`, and the `CompanyName` of the Supplier. Sort by `ProductID`.\n",
        "\n",
        "We can use the `WHERE` keyword."
      ],
      "metadata": {
        "id": "vd921rwiP5lr",
        "colab_type": "text"
      }
    },
    {
      "cell_type": "code",
      "execution_count": null,
      "source": [
        "%%sql\n",
        "-- start your code here\n"
      ],
      "outputs": [],
      "metadata": {
        "id": "YlnNWYlVP5ls",
        "colab_type": "code",
        "colab": {}
      }
    },
    {
      "cell_type": "markdown",
      "source": [
        "We can also use the `(INNER) JOIN` keyword."
      ],
      "metadata": {
        "id": "fLaN2Ph3P5lw",
        "colab_type": "text"
      }
    },
    {
      "cell_type": "code",
      "execution_count": null,
      "source": [
        "%%sql\n",
        "-- start your code here\n"
      ],
      "outputs": [],
      "metadata": {
        "id": "R9QauiHNP5lw",
        "colab_type": "code",
        "colab": {}
      }
    },
    {
      "cell_type": "markdown",
      "source": [
        "### Ex.17 Show all orders and shippers with OrderID less than 10255.\n",
        "\n",
        "Display `OrderID`, `OrderDate` (date only), and `CompanyName` of the Shipper, and sort by `OrderID`. In addition, only display rows with `OrderID < 10255`."
      ],
      "metadata": {
        "id": "JJYHshMRP5l1",
        "colab_type": "text"
      }
    },
    {
      "cell_type": "code",
      "execution_count": null,
      "source": [
        "%%sql\n",
        "-- start your code here\n"
      ],
      "outputs": [],
      "metadata": {
        "id": "HUNuMMn_P5l8",
        "colab_type": "code",
        "colab": {}
      }
    },
    {
      "cell_type": "markdown",
      "source": [
        "### Ex.18* Find total number of products in each category\n",
        "\n",
        "In your result, display `CategoryName` and total number of product."
      ],
      "metadata": {
        "id": "f_9Va_7xP5mB",
        "colab_type": "text"
      }
    },
    {
      "cell_type": "code",
      "execution_count": null,
      "source": [
        "%%sql\n",
        "-- start your code here\n"
      ],
      "outputs": [],
      "metadata": {
        "id": "tK7punTbP5mC",
        "colab_type": "code",
        "colab": {}
      }
    },
    {
      "cell_type": "markdown",
      "source": [
        "### Ex.19 Show all orders with values greater than $12,000 and are placed in 2016?\n",
        "\n",
        "In your result, display `OrderID` and total value of the order (ignore `Discount`)."
      ],
      "metadata": {
        "id": "J3VLQ3iXP5mO",
        "colab_type": "text"
      }
    },
    {
      "cell_type": "code",
      "execution_count": null,
      "source": [
        "%%sql\n",
        "-- start your code here\n"
      ],
      "outputs": [],
      "metadata": {
        "id": "OpLqfrRoP5mO",
        "colab_type": "code",
        "colab": {}
      }
    },
    {
      "cell_type": "markdown",
      "source": [
        "### Ex.20* What products has Michael Suyama ever sold?\n",
        "\n",
        "In your result, display `EmployeeID`, `FirstName`, `LastName`, `ProductID` and `ProductName`."
      ],
      "metadata": {
        "id": "2uSIBVYaP5mV",
        "colab_type": "text"
      }
    },
    {
      "cell_type": "code",
      "execution_count": null,
      "source": [
        "%%sql\n",
        "-- start your code here\n"
      ],
      "outputs": [],
      "metadata": {
        "id": "LXOIiGBRP5mW",
        "colab_type": "code",
        "colab": {}
      }
    },
    {
      "cell_type": "markdown",
      "source": [
        "### Ex.21* Find customers that never placed an order"
      ],
      "metadata": {
        "id": "kvuZQGMqP5ml",
        "colab_type": "text"
      }
    },
    {
      "cell_type": "code",
      "execution_count": null,
      "source": [
        "%%sql\n",
        "-- start your code here\n"
      ],
      "outputs": [],
      "metadata": {
        "id": "F7uyq24fP5ml",
        "colab_type": "code",
        "colab": {}
      }
    },
    {
      "cell_type": "markdown",
      "source": [
        "Note that the Jupyter Notebook displays Null as None."
      ],
      "metadata": {
        "id": "1avlw8OTP5ms",
        "colab_type": "text"
      }
    },
    {
      "cell_type": "markdown",
      "source": [
        "### Ex.22* Find customers who never placed an order from Margaret Peacock (EmployeeID 4)"
      ],
      "metadata": {
        "id": "FZ1FrCvoP5mt",
        "colab_type": "text"
      }
    },
    {
      "cell_type": "code",
      "execution_count": null,
      "source": [
        "%%sql\n",
        "-- start your code here\n"
      ],
      "outputs": [],
      "metadata": {
        "id": "E5KAA0UBP5mu",
        "colab_type": "code",
        "colab": {}
      }
    },
    {
      "cell_type": "markdown",
      "source": [
        "### Ex.23* Find high-value customers - 1\n",
        "\n",
        "We define high-value customers as those who have made at least 1 order with a total value >= $10,000 (ignore discount). We only consider orders placed in year 2016."
      ],
      "metadata": {
        "id": "83jTvbPjP5my",
        "colab_type": "text"
      }
    },
    {
      "cell_type": "code",
      "execution_count": null,
      "source": [
        "%%sql\n",
        "-- start your code here\n"
      ],
      "outputs": [],
      "metadata": {
        "id": "XUY5JDlTP5mz",
        "colab_type": "code",
        "colab": {}
      }
    },
    {
      "cell_type": "markdown",
      "source": [
        "### Ex.24 Find high-value customers - 2\n",
        "\n",
        "This time, we define high-value customers as those who have made total order >= $15,000 (ignore discount). We only consider orders placed in year 2016."
      ],
      "metadata": {
        "id": "HjWfxr2LP5m2",
        "colab_type": "text"
      }
    },
    {
      "cell_type": "code",
      "execution_count": null,
      "source": [
        "%%sql\n",
        "-- start your code here\n"
      ],
      "outputs": [],
      "metadata": {
        "id": "RX190v6VP5m3",
        "colab_type": "code",
        "colab": {}
      }
    },
    {
      "cell_type": "markdown",
      "source": [
        "## Part 4. Others\n",
        "\n",
        "If we don't have time to go through all the concepts below, I encourage you to learn them on your own.\n",
        "\n",
        "1. CTE and temporary table\n",
        "2. Self-join\n",
        "3. `CASE` keyword\n",
        "4. `UNION` keyword\n",
        "\n",
        "Many SQL implementations support something called Common Table Expression (CTE).\n",
        "\n",
        ">A CTE is a named temporary result set that exists within the scope of a single statement and that can be referred to later within that statement, possibly multiple times.\n",
        "\n",
        "CTE is like a subquery, but it's more flexible. In particular, it can be referred to many times in a query, as if we have a temporary table. CTE is created using the `WITH` keyword. Below is a trivial example of CTE.\n",
        "\n",
        "```\n",
        "WITH\n",
        "  cte1 AS (SELECT a, b FROM table1),\n",
        "  cte2 AS (SELECT c, d FROM table2)\n",
        "SELECT b, d FROM cte1 JOIN cte2\n",
        "WHERE cte1.a = cte2.c;\n",
        "\n",
        "```\n",
        "\n",
        "You can also use a temporary table to store `SELECT` result. Temporary table can be referred to multiple times in a single session. The syntax to create temporary table and store results from `SELECT` is\n",
        "\n",
        "```\n",
        "CREATE TEMPORARY TABLE TableName AS SELECT...\n",
        "```"
      ],
      "metadata": {
        "id": "1OaiErBgP5m9",
        "colab_type": "text"
      }
    },
    {
      "cell_type": "markdown",
      "source": [
        "### Ex.25* Find the total number of orders fulfilled by the oldest employee (CTE, Subquery, and temporary table)"
      ],
      "metadata": {
        "id": "HUnWyfP7P5m9",
        "colab_type": "text"
      }
    },
    {
      "cell_type": "code",
      "execution_count": null,
      "source": [
        "%%sql\n",
        "/* CTE (WITH keyword) */\n",
        "-- start your code here\n"
      ],
      "outputs": [],
      "metadata": {
        "id": "yxy9SdqjDxE-",
        "colab_type": "code",
        "colab": {}
      }
    },
    {
      "cell_type": "code",
      "execution_count": null,
      "source": [
        "%%sql\n",
        "/* Subquery */\n",
        "-- start your code here\n"
      ],
      "outputs": [],
      "metadata": {
        "id": "guv3XseEP5nE",
        "colab_type": "code",
        "colab": {}
      }
    },
    {
      "cell_type": "code",
      "execution_count": null,
      "source": [
        "%%sql\n",
        "/* Temporary Table */\n",
        "-- start your code here\n"
      ],
      "outputs": [],
      "metadata": {
        "id": "KLQ1D4kpHL92",
        "colab_type": "code",
        "colab": {}
      }
    },
    {
      "cell_type": "markdown",
      "source": [
        "### Ex.26* For each employee, find what percentage of his/her orders were shipped late?\n",
        "\n",
        "In your result, display `EmployeeID`, `LastName`, total number of orders, number of late orders, % of late orders (rounding to 2 decimal places).\n",
        "\n",
        "Define late order as `RequiredData <= ShipppedDate`.\n",
        "\n",
        "Below are three simpler related questions. You may want to solve them first before you attempt Ex.26 itself.\n",
        "\n",
        "1. Which orders were shipped late?\n",
        "2. Which employee has the most late orders?\n",
        "3. Compare each employee's number of orders and number of late orders.\n",
        "\n",
        "Note: There are many ways to solve this exercise. One of them is to create temporary tables to help us store intermediate results."
      ],
      "metadata": {
        "id": "gHUaCSmIP5nM",
        "colab_type": "text"
      }
    },
    {
      "cell_type": "code",
      "execution_count": null,
      "source": [
        "%%sql\n",
        "-- 1. Which orders were shipped late?\n",
        "-- start your code here\n"
      ],
      "outputs": [],
      "metadata": {
        "id": "iugXHkKNP5nM",
        "colab_type": "code",
        "colab": {}
      }
    },
    {
      "cell_type": "code",
      "execution_count": null,
      "source": [
        "%%sql\n",
        "-- 2. Which employee has the most late orders?\n",
        "-- start your code here\n"
      ],
      "outputs": [],
      "metadata": {
        "id": "PQhltRXIP5nR",
        "colab_type": "code",
        "colab": {}
      }
    },
    {
      "cell_type": "code",
      "execution_count": null,
      "source": [
        "%%sql\n",
        "-- 3. Compare each employee's number of orders and number of late orders\n",
        "-- start your code here\n"
      ],
      "outputs": [],
      "metadata": {
        "id": "RLMQIAUgP5nW",
        "colab_type": "code",
        "colab": {}
      }
    },
    {
      "cell_type": "code",
      "execution_count": null,
      "source": [
        "%%sql\n",
        "-- Solve Ex.26 (Find % of late orders for each employee)\n",
        "-- start your code here\n"
      ],
      "outputs": [],
      "metadata": {
        "id": "C2RZsV0aP5nb",
        "colab_type": "code",
        "colab": {}
      }
    },
    {
      "cell_type": "markdown",
      "source": [
        "### Ex.27* Find customers with multiple orders in 5 day period"
      ],
      "metadata": {
        "id": "APGnHoLSP5nf",
        "colab_type": "text"
      }
    },
    {
      "cell_type": "code",
      "execution_count": null,
      "source": [
        "%%sql\n",
        "-- start your code here\n",
        "-- JOIN keyword\n"
      ],
      "outputs": [],
      "metadata": {
        "id": "9rFxd4jNP5ng",
        "colab_type": "code",
        "colab": {}
      }
    },
    {
      "cell_type": "markdown",
      "source": [
        "### Ex.28 Group customers by its total order value in 2016 for a sales compaign.\n",
        "\n",
        "Group customers into four categories, very high (total order in 2016 > 10,000), high (5,000 < total order <= 10,000), medium (1,000 < total order <= 5,000), and low (0 < total order <= 1,000). When calculating total order value, you can ignore discount.\n",
        "\n",
        "We will learn the `CASE` keyword."
      ],
      "metadata": {
        "id": "eaS3FD86P5no",
        "colab_type": "text"
      }
    },
    {
      "cell_type": "code",
      "execution_count": null,
      "source": [
        "%%sql\n",
        "-- step 1\n",
        "DROP TABLE IF EXISTS TotalOrderAmountTpTable;\n",
        "\n",
        "CREATE TEMPORARY TABLE TotalOrderAmountTpTable AS\n",
        "SELECT Customers.CustomerID, CompanyName, SUM(UnitPrice * Quantity) AS TotalOrderAmount\n",
        "FROM Customers\n",
        "  JOIN Orders ON Customers.CustomerID = Orders.CustomerID\n",
        "  JOIN OrderDetails ON Orders.OrderID = OrderDetails.OrderID\n",
        "WHERE strftime('%Y', OrderDate) = \"2016\"\n",
        "GROUP BY Customers.CustomerID, CompanyName\n",
        "ORDER BY TotalOrderAmount DESC"
      ],
      "outputs": [],
      "metadata": {
        "id": "EiZLC4bqP5np",
        "colab_type": "code",
        "colab": {}
      }
    },
    {
      "cell_type": "code",
      "execution_count": null,
      "source": [
        "%%sql\n",
        "-- step 2\n",
        "SELECT CustomerID, CompanyName, totalOrderAmount,\n",
        "CASE\n",
        "  WHEN TotalOrderAmount > 0 AND TotalOrderAmount <= 1000 THEN 'Low'\n",
        "  WHEN TotalOrderAmount > 1000 AND TotalOrderAmount <= 5000 THEN 'Medium'\n",
        "  WHEN TotalOrderAmount > 5000 AND TotalOrderAmount <= 10000 THEN 'High'\n",
        "  WHEN TotalOrderAmount > 10000 THEN 'Very High'\n",
        "END AS CustomerCategory\n",
        "FROM TotalOrderAmountTpTable\n",
        "ORDER BY CustomerID;"
      ],
      "outputs": [],
      "metadata": {
        "id": "nCw_z8kwP5ns",
        "colab_type": "code",
        "colab": {}
      }
    },
    {
      "cell_type": "markdown",
      "source": [
        "### Ex. 29 Countries with suppliers and customers\n",
        "\n",
        "Some Northwind employees are planning a business trip, and they would like to visit as many customers and suppliers as possible. They would like to see a list of all countries and their corresponding total number of customers and total number of suppliers.\n",
        "\n",
        "#### Method 1. Use intermediate tables.\n",
        "\n",
        "We will use temporary tables."
      ],
      "metadata": {
        "id": "ZqGPk7IBP5nv",
        "colab_type": "text"
      }
    },
    {
      "cell_type": "code",
      "execution_count": null,
      "source": [
        "%%sql\n",
        "-- step 1: count total customers by country\n",
        "DROP TABLE IF EXISTS TotalCustomersTpTable;\n",
        "\n",
        "CREATE TEMPORARY TABLE TotalCustomersTpTable AS\n",
        "SELECT Country, COUNT(CustomerID) AS TotalCustomers\n",
        "FROM Customers\n",
        "GROUP BY Country"
      ],
      "outputs": [],
      "metadata": {
        "id": "1pY3SXUZP5nw",
        "colab_type": "code",
        "colab": {}
      }
    },
    {
      "cell_type": "code",
      "execution_count": null,
      "source": [
        "%%sql\n",
        "-- step 2: count total suppliers by country\n",
        "DROP TABLE IF EXISTS TotalSuppliersTpTable;\n",
        "\n",
        "CREATE TEMPORARY TABLE TotalSuppliersTpTable AS\n",
        "SELECT Country, COUNT(SupplierID) AS TotalSuppliers\n",
        "FROM Suppliers\n",
        "GROUP BY Country"
      ],
      "outputs": [],
      "metadata": {
        "id": "fCJHTOjuP5n1",
        "colab_type": "code",
        "colab": {}
      }
    },
    {
      "cell_type": "code",
      "execution_count": null,
      "source": [
        "%%sql\n",
        "-- step 3: join two intermediate tables (full outer join using union)\n",
        "SELECT TotalCustomersTpTable.Country, TotalCustomers, TotalSuppliers\n",
        "FROM TotalCustomersTpTable\n",
        "  LEFT JOIN TotalSuppliersTpTable\n",
        "    ON TotalCustomersTpTable.Country = TotalSuppliersTpTable.Country\n",
        "UNION\n",
        "SELECT TotalSuppliersTpTable.Country, TotalCustomers, TotalSuppliers\n",
        "FROM TotalSuppliersTpTable\n",
        "  LEFT JOIN TotalCustomersTpTable\n",
        "    ON TotalCustomersTpTable.Country = TotalSuppliersTpTable.Country\n",
        "ORDER BY TotalSuppliersTpTable.Country"
      ],
      "outputs": [],
      "metadata": {
        "id": "FRWI53UNP5n4",
        "colab_type": "code",
        "colab": {}
      }
    },
    {
      "cell_type": "code",
      "execution_count": null,
      "source": [
        "%%sql\n",
        "-- clean up\n",
        "DROP TABLE TotalCustomersTpTable;\n",
        "DROP TABLE TotalSuppliersTpTable;"
      ],
      "outputs": [],
      "metadata": {
        "id": "AOOpyIVmP5n6",
        "colab_type": "code",
        "colab": {}
      }
    },
    {
      "cell_type": "markdown",
      "source": [
        "#### Method 2. Use subquery to get a derived table\n",
        "\n",
        "We find all distinct countries in `Customers` and `Supplier` tables, and combine them to be a derived table `CountriesTable`. This table exists only during the execution of the query. We then `LEFT JOIN` the table to `Customers` and `Supplier` tables, and use `GROUP BY` to obtain the result."
      ],
      "metadata": {
        "id": "9IjyAoi7P5n-",
        "colab_type": "text"
      }
    },
    {
      "cell_type": "code",
      "execution_count": null,
      "source": [
        "%%sql\n",
        "-- Display intermediate result to take a look (debug)\n",
        "SELECT\n",
        "  CountriesTable.Country,\n",
        "  CustomerID,\n",
        "  SupplierID\n",
        "FROM\n",
        "  (SELECT DISTINCT Country FROM Customers\n",
        "   UNION\n",
        "   SELECT DISTINCT Country FROM Suppliers\n",
        "  ) AS CountriesTable -- We have a subquery under the FROM keyword. It gives a derived table, CountriesTable.\n",
        "  LEFT JOIN Customers ON CountriesTable.Country = Customers.Country  \n",
        "  LEFT JOIN Suppliers ON CountriesTable.Country = Suppliers.Country"
      ],
      "outputs": [],
      "metadata": {
        "id": "bU_hRj-ED1kr",
        "colab_type": "code",
        "colab": {}
      }
    },
    {
      "cell_type": "code",
      "execution_count": null,
      "source": [
        "%%sql\n",
        "-- now, completely solve ex.29\n",
        "SELECT\n",
        "  CountriesTable.Country,\n",
        "  Count(DISTINCT CustomerID) AS TotalCustomers,\n",
        "  Count(DISTINCT SupplierID) AS TotalSuppliers\n",
        "FROM\n",
        "  (SELECT DISTINCT Country FROM Customers\n",
        "   UNION\n",
        "   SELECT DISTINCT Country FROM Suppliers\n",
        "  ) AS CountriesTable -- We have a subquery under the FROM keyword. It gives a derived table, CountriesTable.\n",
        "  LEFT JOIN Customers ON CountriesTable.Country = Customers.Country  \n",
        "  LEFT JOIN Suppliers ON CountriesTable.Country = Suppliers.Country\n",
        "GROUP BY CountriesTable.Country\n",
        "ORDER BY CountriesTable.Country"
      ],
      "outputs": [],
      "metadata": {
        "id": "Y2jUT61cP5n_",
        "colab_type": "code",
        "colab": {}
      }
    },
    {
      "cell_type": "markdown",
      "source": [
        "## Summary\n",
        "\n",
        "We have covered quite a few basic SQL keywords. They are mostly about getting data from a DB and manipulate the retrieved data. There are much more to SQL. Take a look at this [post](https://stackoverflow.com/questions/2054130/what-is-advanced-sql) to get an idea of what advanced SQL topics are about, and if you are interested, explore them on your own.\n",
        "\n",
        "\n",
        "## References\n",
        "\n",
        "Most of the exercises in this notebook are drawn from this [book](https://www.amazon.ca/SQL-Practice-Problems-learn-doing-ebook/dp/B01N41VQFO) by Sylvia Moestl Vasilik. The book is based on Microsoft SQL server and its T-SQL.\n",
        "\n",
        "Another great SQL book for beginner is [SQL in 10 Minute](https://www.amazon.ca/SQL-Minutes-Sams-Teach-Yourself/dp/0135182794) by Ben Forta."
      ],
      "metadata": {
        "id": "MX-r4ZGhP5oE",
        "colab_type": "text"
      }
    },
    {
      "cell_type": "code",
      "execution_count": null,
      "source": [],
      "outputs": [],
      "metadata": {
        "id": "q8bRB4GmP5oF",
        "colab_type": "code",
        "colab": {}
      }
    },
    {
      "cell_type": "markdown",
      "source": [
        "## Appendix\n",
        "\n",
        "Examples of various joins shown in the slides."
      ],
      "metadata": {
        "id": "_KfSNG5KP5oI",
        "colab_type": "text"
      }
    },
    {
      "cell_type": "code",
      "execution_count": null,
      "source": [
        "# create a new sqlite database\n",
        "%sql sqlite:///join_playground.sqlite3"
      ],
      "outputs": [],
      "metadata": {
        "id": "VppwXfH7zXyt",
        "colab_type": "code",
        "colab": {}
      }
    },
    {
      "cell_type": "code",
      "execution_count": null,
      "source": [
        "%%sql\n",
        "\n",
        "-- create left table: table1\n",
        "DROP TABLE IF EXISTS table1;\n",
        "\n",
        "CREATE TABLE table1 (\n",
        "  pk INTEGER NOT NULL,\n",
        "  t1c1 TEXT NOT NULL\n",
        ");\n",
        "\n",
        "INSERT INTO table1 \n",
        "    (pk, t1c1) \n",
        "VALUES \n",
        "    (1,\"a\"),\n",
        "    (2,\"b\");\n",
        "\n",
        "-- create right table: table2\n",
        "DROP TABLE IF EXISTS table2;\n",
        "\n",
        "CREATE TABLE table2 (\n",
        "  fk INTEGER NOT NULL,\n",
        "  t2c1 TEXT NOT NULL\n",
        ");\n",
        "\n",
        "INSERT INTO table2 \n",
        "    (fk, t2c1) \n",
        "VALUES \n",
        "    (1,\"c\"),\n",
        "    (1,\"d\"),\n",
        "    (3,\"e\");"
      ],
      "outputs": [],
      "metadata": {
        "id": "k6LIK-5VP5oJ",
        "colab_type": "code",
        "colab": {}
      }
    },
    {
      "cell_type": "code",
      "execution_count": null,
      "source": [
        "%%sql\n",
        "select * from table1;"
      ],
      "outputs": [],
      "metadata": {
        "id": "D-EBvGSmP5oe",
        "colab_type": "code",
        "colab": {}
      }
    },
    {
      "cell_type": "code",
      "execution_count": null,
      "source": [
        "%%sql\n",
        "select * from table2;"
      ],
      "outputs": [],
      "metadata": {
        "id": "RueQp1XrP5ol",
        "colab_type": "code",
        "colab": {}
      }
    },
    {
      "cell_type": "code",
      "execution_count": null,
      "source": [
        "%%sql\n",
        "-- inner join\n",
        "select * from table1 join table2 on table1.pk = table2.fk"
      ],
      "outputs": [],
      "metadata": {
        "id": "WLKJbsiyP5on",
        "colab_type": "code",
        "colab": {}
      }
    },
    {
      "cell_type": "code",
      "execution_count": null,
      "source": [
        "%%sql\n",
        "-- left join\n",
        "select * \n",
        "from table1 \n",
        "  left join table2 on table1.pk = table2.fk"
      ],
      "outputs": [],
      "metadata": {
        "id": "9oDsKf8OP5oq",
        "colab_type": "code",
        "colab": {}
      }
    },
    {
      "cell_type": "code",
      "execution_count": null,
      "source": [
        "%%sql\n",
        "-- left join with exclusion\n",
        "select * \n",
        "from table1\n",
        "  left join table2 on table1.pk = table2.fk\n",
        "where table2.fk IS NULL"
      ],
      "outputs": [],
      "metadata": {
        "id": "bwqlAhCLP5ou",
        "colab_type": "code",
        "colab": {}
      }
    },
    {
      "cell_type": "code",
      "execution_count": null,
      "source": [
        "%%sql\n",
        "-- right join using LEFT JOIN key word\n",
        "select * \n",
        "from table2\n",
        "  left join table1 on table2.fk = table1.pk"
      ],
      "outputs": [],
      "metadata": {
        "id": "sgyyBEw5P5o0",
        "colab_type": "code",
        "colab": {}
      }
    },
    {
      "cell_type": "code",
      "execution_count": null,
      "source": [
        "%%sql\n",
        "-- right join with exclusion using LEFT JOIN and WHERE key word\n",
        "select * \n",
        "from table2\n",
        "  left join table1 on table2.fk = table1.pk\n",
        "where table1.pk is NULL"
      ],
      "outputs": [],
      "metadata": {
        "id": "2QJleWGiP5o6",
        "colab_type": "code",
        "colab": {}
      }
    },
    {
      "cell_type": "code",
      "execution_count": null,
      "source": [
        "%%sql\n",
        "-- fuller outer join\n",
        "-- it is important to list all the column names (i.e. not using *; can use * if using MySQL)\n",
        "-- https://stackoverflow.com/questions/53076981/sql-union-doesnt-check-for-matching-column-names-is-it-up-to-me\n",
        "\n",
        "select pk, t1c1, fk, t2c1\n",
        "from table1\n",
        "  left join table2 on table1.pk = table2.fk\n",
        "union\n",
        "select pk, t1c1, fk, t2c1\n",
        "from table2\n",
        "  left join table1 on table2.fk = table1.pk;"
      ],
      "outputs": [],
      "metadata": {
        "id": "wTOU-JaFP5o8",
        "colab_type": "code",
        "colab": {}
      }
    },
    {
      "cell_type": "code",
      "execution_count": null,
      "source": [
        "%%sql\n",
        "-- full outer join with exclusion\n",
        "select pk, t1c1, fk, t2c1\n",
        "from table1\n",
        "  left join table2 on table1.pk = table2.fk\n",
        "where table2.fk is NULL\n",
        "union\n",
        "select pk, t1c1, fk, t2c1\n",
        "from table2\n",
        "  left join table1 on table2.fk = table1.pk\n",
        "where table1.pk is NULL;"
      ],
      "outputs": [],
      "metadata": {
        "id": "VlBjOIV2P5o_",
        "colab_type": "code",
        "colab": {}
      }
    },
    {
      "cell_type": "code",
      "execution_count": null,
      "source": [],
      "outputs": [],
      "metadata": {
        "id": "Ni_n1mWNP5pC",
        "colab_type": "code",
        "colab": {}
      }
    }
  ]
}